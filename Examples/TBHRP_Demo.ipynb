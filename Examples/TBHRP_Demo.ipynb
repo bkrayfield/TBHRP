{
  "nbformat": 4,
  "nbformat_minor": 0,
  "metadata": {
    "colab": {
      "provenance": []
    },
    "kernelspec": {
      "name": "python3",
      "display_name": "Python 3"
    },
    "language_info": {
      "name": "python"
    }
  },
  "cells": [
    {
      "cell_type": "markdown",
      "source": [
        "# TB- HRP\n",
        "\n",
        "Start by installing the dependicies"
      ],
      "metadata": {
        "id": "BZqRlJxQeAEA"
      }
    },
    {
      "cell_type": "code",
      "execution_count": 1,
      "metadata": {
        "colab": {
          "base_uri": "https://localhost:8080/"
        },
        "id": "z40OY4hHRuPj",
        "outputId": "d40366e9-3623-4ed2-f7c6-c91a7bae0f37"
      },
      "outputs": [
        {
          "output_type": "stream",
          "name": "stdout",
          "text": [
            "Cloning into 'TBHRP'...\n",
            "remote: Enumerating objects: 212, done.\u001b[K\n",
            "remote: Counting objects: 100% (23/23), done.\u001b[K\n",
            "remote: Compressing objects: 100% (23/23), done.\u001b[K\n",
            "remote: Total 212 (delta 8), reused 0 (delta 0), pack-reused 189 (from 1)\u001b[K\n",
            "Receiving objects: 100% (212/212), 3.31 MiB | 6.54 MiB/s, done.\n",
            "Resolving deltas: 100% (84/84), done.\n",
            "\u001b[2K     \u001b[90m━━━━━━━━━━━━━━━━━━━━━━━━━━━━━━━━━━━━━━━━\u001b[0m \u001b[32m66.5/66.5 kB\u001b[0m \u001b[31m3.1 MB/s\u001b[0m eta \u001b[36m0:00:00\u001b[0m\n",
            "\u001b[?25h"
          ]
        }
      ],
      "source": [
        "!git clone https://github.com/bkrayfield/TBHRP.git\n",
        "!pip install -q sec_api"
      ]
    },
    {
      "cell_type": "code",
      "source": [
        "%cd TBHRP"
      ],
      "metadata": {
        "colab": {
          "base_uri": "https://localhost:8080/"
        },
        "id": "_PF5ZJ8HQbK4",
        "outputId": "350fa326-77bd-4e5f-949f-5e095a6e3df0"
      },
      "execution_count": 2,
      "outputs": [
        {
          "output_type": "stream",
          "name": "stdout",
          "text": [
            "/content/TBHRP\n"
          ]
        }
      ]
    },
    {
      "cell_type": "markdown",
      "source": [
        "## Preconfiguration here.\n",
        "You should define your stock price file, the location of your results, a \"Run Identifier\" (simply a number that can help identify your run, for bootstrapping for example), and the years of analysis you want."
      ],
      "metadata": {
        "id": "XGEIf-C1eR74"
      }
    },
    {
      "cell_type": "code",
      "source": [
        "from google.colab import userdata\n",
        "### Configuration\n",
        "\n",
        "# Replace the API Key with your own SEC API key here.\n",
        "# You can purchase or aquire a free API key from https://sec-api.io/\n",
        "SEC_API_KEY = userdata.get('SEC_API_KEY')\n",
        "\n",
        "# Data can be use the repo data by default, or you can customize with your own.\n",
        "INPUT_DATA = \"Data/top500Total.csv\"\n",
        "OUTPUT_LOCATION = \"Results/\"\n",
        "RUN_IDENTIFIER = \"1\"\n",
        "ANALYSIS_YEARS = [2018, 2022]"
      ],
      "metadata": {
        "id": "YjMDVbDwQtoF"
      },
      "execution_count": 3,
      "outputs": []
    },
    {
      "cell_type": "markdown",
      "source": [
        "## The TB-HRP code can be run in two ways\n",
        "\n",
        "1. Using the SEC-API, which allows for the most up to date SEC fillings to be included in the analysis.\n",
        "2. Using other external text data formatting in the same style as the SEC-API data. This allows you to employ data outside of the stock market, including startups, housing, etc."
      ],
      "metadata": {
        "id": "Vscc-4Efe5xo"
      }
    },
    {
      "cell_type": "markdown",
      "source": [
        "## Using SEC-API"
      ],
      "metadata": {
        "id": "-UcdnNmIfPv6"
      }
    },
    {
      "cell_type": "code",
      "source": [
        "from TBHRP import doHRP\n",
        "\n",
        "# Execute the analysis\n",
        "doHRP.run_hrp_analysis(\n",
        "    api_key=SEC_API_KEY,\n",
        "    input_csv_path=INPUT_DATA,\n",
        "    output_dir=OUTPUT_LOCATION,\n",
        "    run_id=RUN_IDENTIFIER,\n",
        "    years=ANALYSIS_YEARS,\n",
        "    sample_size=10,\n",
        "    window_size=60,\n",
        ")"
      ],
      "metadata": {
        "colab": {
          "base_uri": "https://localhost:8080/"
        },
        "id": "bPU5W4LWQ9J-",
        "outputId": "871f7064-1228-4dba-89f5-a5b6289267f2"
      },
      "execution_count": 4,
      "outputs": [
        {
          "output_type": "stream",
          "name": "stdout",
          "text": [
            "Running using preloaded data mode.\n",
            "Step 1: Loading and preparing price data...\n",
            "Step 2: Identifying tickers with available 10-K filings...\n",
            "Step 3: Calculating returns and sampling 10 tickers...\n",
            "Selected tickers: ['AMD', 'IDXX', 'VLO', 'FDX', 'IP', 'WY', 'AAP', 'HON', 'WFC', 'SPG']\n",
            "Step 4: Generating text-based similarity matrices...\n",
            "Step 5: Aligning data and creating rolling windows...\n",
            "Step 6: Running optimization over all windows...\n",
            "Step 7: Saving results to disk...\n",
            "Analysis complete.\n"
          ]
        }
      ]
    },
    {
      "cell_type": "markdown",
      "source": [
        "## Using Your Own Data (Example files can be found in the \"Sample_Input\" directory)"
      ],
      "metadata": {
        "id": "fBQ59WA7fS7T"
      }
    },
    {
      "cell_type": "code",
      "source": [
        "from TBHRP import doHRP\n",
        "import numpy as np # Import numpy\n",
        "\n",
        "# Execute the analysis\n",
        "doHRP.run_hrp_analysis(\n",
        "    api_key=\"\",\n",
        "    input_csv_path=INPUT_DATA,\n",
        "    output_dir=OUTPUT_LOCATION,\n",
        "    run_id=RUN_IDENTIFIER,\n",
        "    years=ANALYSIS_YEARS,\n",
        "    sample_size=10,\n",
        "    window_size=60,\n",
        "    preloaded_urls_path = r\"Sample_Input/sample_index.csv\",\n",
        "    preloaded_texts_path = r\"Sample_Input/sample_input.pk\",\n",
        ")"
      ],
      "metadata": {
        "colab": {
          "base_uri": "https://localhost:8080/"
        },
        "id": "E-P2QQpvRDVg",
        "outputId": "0618f6b0-f5a6-460e-82c4-f4a78a6721e1"
      },
      "execution_count": 5,
      "outputs": [
        {
          "output_type": "stream",
          "name": "stdout",
          "text": [
            "Running using SEC-API.\n",
            "Step 1: Loading and preparing price data...\n",
            "Step 2: Identifying tickers with available 10-K filings...\n",
            "Step 3: Calculating returns and sampling 10 tickers...\n",
            "Selected tickers: ['BXP', 'BDX', 'BAC', 'WAB', 'ATO', 'MU', 'ITW', 'NOC', 'LLY', 'DHI']\n",
            "Step 4: Generating text-based similarity matrices...\n",
            " Using preloaded filing texts.\n",
            "  Using preloaded filing URLs.\n",
            "Step 5: Aligning data and creating rolling windows...\n",
            "Step 6: Running optimization over all windows...\n",
            "Step 7: Saving results to disk...\n",
            "Analysis complete.\n"
          ]
        }
      ]
    },
    {
      "cell_type": "markdown",
      "source": [
        "## Compute the results from the stored weighted returns.\n",
        "\n",
        "\n",
        "\n",
        "This section calculates and presents the results from the stored weighted returns.\n",
        "\n",
        "The calculate_results function takes the calculated weights and pandas DataFrames as input. It then iterates through different result categories ('HRP', 'TBHRP', 'IV', 'EQ', 'MV') and computes the final return for each category over the specified time windows.\n",
        "\n",
        "The code then loads the saved pandas DataFrames and weights from the \"Results/\" directory and calls the calculate_results function. Finally, it prints the mean, standard deviation, and Sharpe ratio (mean / standard deviation) for each result category.\n"
      ],
      "metadata": {
        "id": "OCRMIeQcHsVV"
      }
    },
    {
      "cell_type": "code",
      "source": [
        "import os\n",
        "import pickle\n",
        "import numpy as np\n",
        "import pandas as pd\n",
        "\n",
        "def calculate_results(weights, pd_frames):\n",
        "    result_categories = ['HRP', 'TBHRP', 'IV', 'EQ','MV']\n",
        "    results = {category: [] for category in result_categories}\n",
        "    num_results = len(weights[0]['HRP'])\n",
        "\n",
        "    for category in result_categories:\n",
        "        for weight in weights:\n",
        "            weight['EQ'] = pd.Series([1/num_results for _ in range(num_results)], index=weight['HRP'].index)\n",
        "\n",
        "        pd_frames_copy = pd_frames.copy()\n",
        "\n",
        "        for index in range(len(pd_frames_copy)-1):\n",
        "            # Set in right order\n",
        "            pd_frames_copy[index+1] = pd_frames_copy[index+1][weights[index][category].index]\n",
        "\n",
        "            # Add one to DataFrame\n",
        "            pd_frames_copy[index+1] += 1\n",
        "\n",
        "            # Multiply first row\n",
        "            pd_frames_copy[index+1].iloc[0] *= weights[index][category]\n",
        "\n",
        "            # Final Return\n",
        "            results[category].append(pd_frames_copy[index+1].cumprod(axis=0).iloc[-1].sum() - 1)\n",
        "\n",
        "    return results\n",
        "\n",
        "home_dir_frames = \"Results/\"\n",
        "home_dir_weights = \"Results/\"\n",
        "\n",
        "frames_files = [file for file in os.listdir(home_dir_frames) if os.path.isfile(os.path.join(home_dir_frames, file))]\n",
        "weights_files = [file for file in os.listdir(home_dir_weights) if os.path.isfile(os.path.join(home_dir_weights, file))]\n",
        "\n",
        "frames_files = [x for x in frames_files if x.find(\"frames.pk\") > 0]\n",
        "weights_files = [x for x in weights_files if x.find(\"weights.pk\") > 0]\n",
        "\n",
        "for frame_file, weight_file in zip(frames_files, weights_files):\n",
        "    with open(os.path.join(home_dir_frames, frame_file), 'rb') as file:\n",
        "        frame = pickle.load(file)\n",
        "    with open(os.path.join(home_dir_weights, weight_file), 'rb') as file:\n",
        "        weights = pickle.load(file)\n",
        "\n",
        "    results = calculate_results(weights, frame)\n",
        "\n",
        "    # Create a list to hold the results data\n",
        "    table_data = []\n",
        "    for key, values in results.items():\n",
        "        arr = np.array(values)\n",
        "        mean_val = np.mean(arr)\n",
        "        std_val = np.std(arr)\n",
        "\n",
        "        # Avoid division by zero if standard deviation is 0\n",
        "        sharpe = mean_val / std_val if std_val != 0 else 0.0\n",
        "\n",
        "        table_data.append({\n",
        "            \"Strategy\": key,\n",
        "            \"Mean Return\": mean_val,\n",
        "            \"Std Dev\": std_val,\n",
        "            \"Sharpe Ratio\": sharpe\n",
        "        })\n",
        "\n",
        "    # Create and print the DataFrame\n",
        "    results_df = pd.DataFrame(table_data)\n",
        "    print(results_df.round(4))\n"
      ],
      "metadata": {
        "id": "DjKXo9_4bns7",
        "colab": {
          "base_uri": "https://localhost:8080/"
        },
        "outputId": "1ab6197b-86a0-4b08-e119-89466b743ed8"
      },
      "execution_count": 7,
      "outputs": [
        {
          "output_type": "stream",
          "name": "stdout",
          "text": [
            "  Strategy  Mean Return  Std Dev  Sharpe Ratio\n",
            "0      HRP       0.0367   0.0579        0.6328\n",
            "1    TBHRP       0.0364   0.0564        0.6460\n",
            "2       IV       0.0378   0.0602        0.6276\n",
            "3       EQ       0.0397   0.0679        0.5847\n",
            "4       MV       0.0332   0.0533        0.6224\n"
          ]
        }
      ]
    },
    {
      "cell_type": "code",
      "source": [],
      "metadata": {
        "id": "-WkbaLEcRSu9"
      },
      "execution_count": null,
      "outputs": []
    }
  ]
}